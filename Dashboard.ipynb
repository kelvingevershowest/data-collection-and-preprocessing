{
   "cells": [
      {
         "cell_type": "code",
         "execution_count": 72,
         "metadata": {},
         "outputs": [
            {
               "name": "stdout",
               "output_type": "stream",
               "text": [
                  "Final score: 0.8252551020408163\n"
               ]
            }
         ],
         "source": [
            "import pandas as pd\n",
            "import numpy as np\n",
            "from sklearn.impute import SimpleImputer\n",
            "\n",
            "df = pd.read_csv('diabetes.csv')\n",
            "df_no_dup = df.copy()\n",
            "df_no_dup.drop_duplicates()\n",
            "#replace zeros with nan\n",
            "df_nan = df_no_dup.copy()\n",
            "df_nan[['Glucose','BloodPressure','SkinThickness','Insulin','BMI']] = df_nan[['Glucose','BloodPressure','SkinThickness','Insulin','BMI']].replace(0,np.NaN)\n",
            "#impute missing values\n",
            "df_imputed = df_nan.copy()\n",
            "mean_imputer = SimpleImputer(missing_values=np.nan, strategy='median')\n",
            "mean_imputer = mean_imputer.fit(df_imputed[['Pregnancies', 'Glucose', 'BloodPressure', 'SkinThickness', 'Insulin',\n",
            "       'BMI', 'DiabetesPedigreeFunction', 'Age']])\n",
            "df_imputed[['Pregnancies', 'Glucose', 'BloodPressure', 'SkinThickness', 'Insulin',\n",
            "       'BMI', 'DiabetesPedigreeFunction', 'Age']] = mean_imputer.transform(df_imputed[['Pregnancies', 'Glucose', 'BloodPressure', 'SkinThickness', 'Insulin',\n",
            "       'BMI', 'DiabetesPedigreeFunction', 'Age']].values)\n",
            "#log transform skewed columns\n",
            "from scipy.stats import skew\n",
            "logged_cols = []\n",
            "cols = df_imputed.columns\n",
            "df_not_skewed = df_imputed.copy()\n",
            "for col in cols:\n",
            "    skewed = skew(df_not_skewed[col].dropna().astype(float))\n",
            "    if skewed > 0.75:\n",
            "        logged_cols.append(col)\n",
            "        df_not_skewed[col] = np.log1p(df_not_skewed[col])\n",
            "#train val test split\n",
            "from sklearn.model_selection import train_test_split\n",
            "from sklearn.preprocessing import StandardScaler\n",
            "df_shuffle = df_not_skewed.sample(frac = 1, random_state=1234) # shuffle the data\n",
            "X = df_shuffle.drop(['Outcome'],axis=1)\n",
            "y = df_shuffle['Outcome']\n",
            "X_trainval, X_test, y_trainval, y_test = train_test_split(X, y, test_size=0.2, random_state=1234)\n",
            "X_train, X_val, y_train, y_val = train_test_split(X_trainval,y_trainval, test_size=0.2, random_state=1234)\n",
            "#standardise\n",
            "num_feat = df_not_skewed.columns[0:8]\n",
            "scaler = StandardScaler()\n",
            "X_train_stand = X_train.copy()\n",
            "X_trainval_stand = X_trainval.copy()\n",
            "X_val_stand = X_val.copy()\n",
            "X_test_stand = X_test.copy()\n",
            "X_train_stand[num_feat] = scaler.fit_transform(X_train_stand[num_feat])\n",
            "X_val_stand[num_feat] = scaler.transform(X_val_stand[num_feat])\n",
            "X_trainval_stand[num_feat] = scaler.transform(X_trainval_stand[num_feat])\n",
            "X_test_stand[num_feat] = scaler.transform(X_test_stand[num_feat])\n",
            "#train best model\n",
            "from sklearn.calibration import CalibratedClassifierCV\n",
            "from sklearn.linear_model import LogisticRegression\n",
            "final_logreg = LogisticRegression(C=10000, max_iter=1000) \n",
            "final_isotonic = CalibratedClassifierCV(final_logreg, cv=3, method='isotonic')\n",
            "final_isotonic.fit(X_trainval_stand, y_trainval)\n",
            "#results\n",
            "import sklearn.metrics as metrics\n",
            "final_y_test_pred_prob = final_isotonic.predict_proba(X_test_stand)\n",
            "final_fpr, final_tpr, final_threshold = metrics.roc_curve(y_test, final_y_test_pred_prob[:,1])\n",
            "final_roc_auc = metrics.auc(final_fpr, final_tpr)"
         ]
      },
      {
         "attachments": {},
         "cell_type": "markdown",
         "metadata": {},
         "source": [
            "<h1 align=\"center\">Check if you have Diabetes</h1>"
         ]
      },
      {
         "cell_type": "code",
         "execution_count": 75,
         "metadata": {},
         "outputs": [
            {
               "data": {
                  "application/vnd.jupyter.widget-view+json": {
                     "model_id": "f13fa7d029584cd3bf237ba0aef648f8",
                     "version_major": 2,
                     "version_minor": 0
                  },
                  "text/plain": [
                     "VBox(children=(HBox(children=(FloatText(value=0.0, description='Pregnancies:'), FloatText(value=0.0, descripti…"
                  ]
               },
               "execution_count": 75,
               "metadata": {},
               "output_type": "execute_result"
            }
         ],
         "source": [
            "from ipywidgets import Label, FloatText, VBox, HBox, Layout, Button\n",
            "import pandas as pd\n",
            "import numpy as np\n",
            "def on_button_clicked(button):\n",
            "    input_data = {\n",
            "        'Pregnancies': pregnancies.value, \n",
            "        'Glucose': glucose.value, \n",
            "        'BloodPressure': blood_pressure.value,\n",
            "        'SkinThickness':  skin_thickness.value, \n",
            "        'Insulin': insulin.value, \n",
            "        'BMI': bmi.value,\n",
            "        'DiabetesPedigreeFunction': diabetes_pedigree_function.value,\n",
            "        'Age': age.value\n",
            "    }\n",
            "    # Convert the dictionary to a Pandas DataFrame\n",
            "    input_df = pd.DataFrame.from_dict([input_data])\n",
            "    # Reorder the columns to match the order of the input features in your trained model\n",
            "    input_df = input_df[['Pregnancies', 'Glucose', 'BloodPressure', 'SkinThickness', 'Insulin', 'BMI', 'DiabetesPedigreeFunction', 'Age']]\n",
            "    #convert missing values to nan\n",
            "    input_df[['Glucose','BloodPressure','SkinThickness','Insulin','BMI']] = input_df[['Glucose','BloodPressure','SkinThickness','Insulin','BMI']].replace(0,np.NaN)\n",
            "    #use imputer\n",
            "    input_df[['Pregnancies', 'Glucose', 'BloodPressure', 'SkinThickness', 'Insulin', 'BMI', 'DiabetesPedigreeFunction', 'Age']] = mean_imputer.transform(input_df[['Pregnancies', 'Glucose', 'BloodPressure', 'SkinThickness', 'Insulin', 'BMI', 'DiabetesPedigreeFunction', 'Age']].values)\n",
            "    #log the skewed columns\n",
            "    for col in logged_cols:\n",
            "        input_df[col] = np.log1p(input_df[col])\n",
            "    #use scaler\n",
            "    input_df[num_feat] = scaler.transform(input_df[num_feat])\n",
            "    #use best model\n",
            "    result = final_isotonic.predict_proba(input_df)\n",
            "    result = round(result[0][1] * 100,2) \n",
            "    values_label.value = 'You are ' + str(result) + '% ' + 'likely to have diabetes'\n",
            "pregnancies = FloatText(description='Pregnancies:')\n",
            "glucose = FloatText(description='Glucose:')\n",
            "blood_pressure = FloatText(description='BloodPressure:')\n",
            "skin_thickness = FloatText(description='SkinThickness:')\n",
            "insulin = FloatText(description='Insulin:')\n",
            "bmi = FloatText(description='BMI:')\n",
            "diabetes_pedigree_function = FloatText(description='DiabetesPedigreeFunction:')\n",
            "age = FloatText(description='Age:')\n",
            "button = Button(description='Submit')\n",
            "button.on_click(on_button_clicked)\n",
            "values_label = Label()\n",
            "\n",
            "for w in [pregnancies, glucose, blood_pressure, skin_thickness, insulin, bmi, diabetes_pedigree_function, age, values_label]:\n",
            "    w.layout.width = 'auto'\n",
            "    w.layout.margin = 'auto'\n",
            "\n",
            "button.layout.margin = 'auto'\n",
            "button.layout.width = '10%'\n",
            "\n",
            "# set color scheme\n",
            "style = {'description_width': 'initial',\n",
            "         'font_weight': 'bold',\n",
            "         'width': '100px',\n",
            "         'background-color': '#F0F0F0'}\n",
            "pregnancies.style = style\n",
            "glucose.style = style\n",
            "blood_pressure.style = style\n",
            "skin_thickness.style = style\n",
            "insulin.style = style\n",
            "bmi.style = style\n",
            "diabetes_pedigree_function.style = style\n",
            "age.style = style\n",
            "button.style.button_color = '#3CB371'\n",
            "\n",
            "# arrange fields in two rows with four fields each\n",
            "row1 = HBox([pregnancies, glucose, blood_pressure, skin_thickness], layout=Layout(margin='100px 0 0 0'))\n",
            "row2 = HBox([insulin, bmi, diabetes_pedigree_function, age], layout=Layout(margin='100px 0 0 0'))\n",
            "row3 = HBox([button], layout=Layout(margin='100px 0 0 0'))\n",
            "fields = VBox([row1, row2, row3, values_label], layout=Layout(overflow='hidden'))\n",
            "\n",
            "# display the fields\n",
            "fields\n",
            "\n"
         ]
      }
   ],
   "metadata": {
      "kernelspec": {
         "display_name": "SchoolProject-jfK-57_F",
         "language": "python",
         "name": "python3"
      },
      "language_info": {
         "codemirror_mode": {
            "name": "ipython",
            "version": 3
         },
         "file_extension": ".py",
         "mimetype": "text/x-python",
         "name": "python",
         "nbconvert_exporter": "python",
         "pygments_lexer": "ipython3",
         "version": "3.11.1"
      },
      "orig_nbformat": 4,
      "vscode": {
         "interpreter": {
            "hash": "56f342581a41122b934d164d33277dfa0e337670219fb24060f5abc3a8d8b548"
         }
      }
   },
   "nbformat": 4,
   "nbformat_minor": 2
}
