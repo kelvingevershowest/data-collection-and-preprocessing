{
   "cells": [],
   "metadata": {
      "kernelspec": {
         "display_name": "SchoolProject-jfK-57_F",
         "language": "python",
         "name": "python3"
      },
      "language_info": {
         "codemirror_mode": {
            "name": "ipython",
            "version": 3
         },
         "file_extension": ".py",
         "mimetype": "text/x-python",
         "name": "python",
         "nbconvert_exporter": "python",
         "pygments_lexer": "ipython3",
         "version": "3.11.1"
      },
      "orig_nbformat": 4,
      "vscode": {
         "interpreter": {
            "hash": "56f342581a41122b934d164d33277dfa0e337670219fb24060f5abc3a8d8b548"
         }
      }
   },
   "nbformat": 4,
   "nbformat_minor": 2
}
