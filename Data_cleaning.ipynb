{
   "cells": [
      {
         "attachments": {},
         "cell_type": "markdown",
         "metadata": {},
         "source": [
            "# 2. Data cleaning"
         ]
      },
      {
         "attachments": {},
         "cell_type": "markdown",
         "metadata": {},
         "source": [
            "### Import Packages"
         ]
      },
      {
         "cell_type": "code",
         "execution_count": 67,
         "metadata": {},
         "outputs": [
            {
               "name": "stderr",
               "output_type": "stream",
               "text": [
                  "C:\\Users\\Kelvi\\AppData\\Local\\Temp\\ipykernel_4348\\3818186681.py:7: MatplotlibDeprecationWarning: The seaborn styles shipped by Matplotlib are deprecated since 3.6, as they no longer correspond to the styles shipped by seaborn. However, they will remain available as 'seaborn-v0_8-<style>'. Alternatively, directly use the seaborn API instead.\n",
                  "  plt.style.use('seaborn-darkgrid')\n"
               ]
            }
         ],
         "source": [
            "%matplotlib inline\n",
            "import numpy as np\n",
            "import pandas as pd\n",
            "import matplotlib as mpl\n",
            "import matplotlib.pyplot as plt\n",
            "import seaborn as sns\n",
            "plt.style.use('seaborn-darkgrid')"
         ]
      },
      {
         "attachments": {},
         "cell_type": "markdown",
         "metadata": {},
         "source": [
            "### Load Data"
         ]
      },
      {
         "cell_type": "code",
         "execution_count": 68,
         "metadata": {},
         "outputs": [],
         "source": [
            "df = pd.read_csv('diabetes.csv')"
         ]
      },
      {
         "attachments": {},
         "cell_type": "markdown",
         "metadata": {},
         "source": [
            "### Remove Duplicates"
         ]
      },
      {
         "cell_type": "code",
         "execution_count": 77,
         "metadata": {},
         "outputs": [
            {
               "data": {
                  "text/plain": [
                     "(768, 9)"
                  ]
               },
               "execution_count": 77,
               "metadata": {},
               "output_type": "execute_result"
            }
         ],
         "source": [
            "df_no_dup = df.copy()\n",
            "df_no_dup.drop_duplicates() # Remove the duplicates\n",
            "\n",
            "df_no_dup.shape # Check the remaining number of observations"
         ]
      },
      {
         "attachments": {},
         "cell_type": "markdown",
         "metadata": {},
         "source": [
            "### Convert Missing Values to Nan"
         ]
      },
      {
         "cell_type": "code",
         "execution_count": 94,
         "metadata": {},
         "outputs": [
            {
               "data": {
                  "text/html": [
                     "<div>\n",
                     "<style scoped>\n",
                     "    .dataframe tbody tr th:only-of-type {\n",
                     "        vertical-align: middle;\n",
                     "    }\n",
                     "\n",
                     "    .dataframe tbody tr th {\n",
                     "        vertical-align: top;\n",
                     "    }\n",
                     "\n",
                     "    .dataframe thead th {\n",
                     "        text-align: right;\n",
                     "    }\n",
                     "</style>\n",
                     "<table border=\"1\" class=\"dataframe\">\n",
                     "  <thead>\n",
                     "    <tr style=\"text-align: right;\">\n",
                     "      <th></th>\n",
                     "      <th>Pregnancies</th>\n",
                     "      <th>Glucose</th>\n",
                     "      <th>BloodPressure</th>\n",
                     "      <th>SkinThickness</th>\n",
                     "      <th>Insulin</th>\n",
                     "      <th>BMI</th>\n",
                     "      <th>DiabetesPedigreeFunction</th>\n",
                     "      <th>Age</th>\n",
                     "      <th>Outcome</th>\n",
                     "    </tr>\n",
                     "  </thead>\n",
                     "  <tbody>\n",
                     "    <tr>\n",
                     "      <th>0</th>\n",
                     "      <td>6</td>\n",
                     "      <td>148.0</td>\n",
                     "      <td>72.0</td>\n",
                     "      <td>35.0</td>\n",
                     "      <td>NaN</td>\n",
                     "      <td>33.6</td>\n",
                     "      <td>0.627</td>\n",
                     "      <td>50</td>\n",
                     "      <td>1</td>\n",
                     "    </tr>\n",
                     "    <tr>\n",
                     "      <th>1</th>\n",
                     "      <td>1</td>\n",
                     "      <td>85.0</td>\n",
                     "      <td>66.0</td>\n",
                     "      <td>29.0</td>\n",
                     "      <td>NaN</td>\n",
                     "      <td>26.6</td>\n",
                     "      <td>0.351</td>\n",
                     "      <td>31</td>\n",
                     "      <td>0</td>\n",
                     "    </tr>\n",
                     "    <tr>\n",
                     "      <th>2</th>\n",
                     "      <td>8</td>\n",
                     "      <td>183.0</td>\n",
                     "      <td>64.0</td>\n",
                     "      <td>NaN</td>\n",
                     "      <td>NaN</td>\n",
                     "      <td>23.3</td>\n",
                     "      <td>0.672</td>\n",
                     "      <td>32</td>\n",
                     "      <td>1</td>\n",
                     "    </tr>\n",
                     "    <tr>\n",
                     "      <th>3</th>\n",
                     "      <td>1</td>\n",
                     "      <td>89.0</td>\n",
                     "      <td>66.0</td>\n",
                     "      <td>23.0</td>\n",
                     "      <td>94.0</td>\n",
                     "      <td>28.1</td>\n",
                     "      <td>0.167</td>\n",
                     "      <td>21</td>\n",
                     "      <td>0</td>\n",
                     "    </tr>\n",
                     "    <tr>\n",
                     "      <th>4</th>\n",
                     "      <td>0</td>\n",
                     "      <td>137.0</td>\n",
                     "      <td>40.0</td>\n",
                     "      <td>35.0</td>\n",
                     "      <td>168.0</td>\n",
                     "      <td>43.1</td>\n",
                     "      <td>2.288</td>\n",
                     "      <td>33</td>\n",
                     "      <td>1</td>\n",
                     "    </tr>\n",
                     "  </tbody>\n",
                     "</table>\n",
                     "</div>"
                  ],
                  "text/plain": [
                     "   Pregnancies  Glucose  BloodPressure  SkinThickness  Insulin   BMI   \n",
                     "0            6    148.0           72.0           35.0      NaN  33.6  \\\n",
                     "1            1     85.0           66.0           29.0      NaN  26.6   \n",
                     "2            8    183.0           64.0            NaN      NaN  23.3   \n",
                     "3            1     89.0           66.0           23.0     94.0  28.1   \n",
                     "4            0    137.0           40.0           35.0    168.0  43.1   \n",
                     "\n",
                     "   DiabetesPedigreeFunction  Age  Outcome  \n",
                     "0                     0.627   50        1  \n",
                     "1                     0.351   31        0  \n",
                     "2                     0.672   32        1  \n",
                     "3                     0.167   21        0  \n",
                     "4                     2.288   33        1  "
                  ]
               },
               "execution_count": 94,
               "metadata": {},
               "output_type": "execute_result"
            }
         ],
         "source": [
            "# Zero's in the following columns Glucose, BloodPressure, SkinThickness, Insulin and BMI are impossible and are actually missing values\n",
            "df_nan = df_no_dup.copy()\n",
            "df_nan[['Glucose','BloodPressure','SkinThickness','Insulin','BMI']] = df_nan[['Glucose','BloodPressure','SkinThickness','Insulin','BMI']].replace(0,np.NaN)\n",
            "df_nan.head()"
         ]
      },
      {
         "attachments": {},
         "cell_type": "markdown",
         "metadata": {},
         "source": [
            "### Imputing Missing Values"
         ]
      },
      {
         "cell_type": "code",
         "execution_count": 95,
         "metadata": {},
         "outputs": [
            {
               "data": {
                  "text/html": [
                     "<div>\n",
                     "<style scoped>\n",
                     "    .dataframe tbody tr th:only-of-type {\n",
                     "        vertical-align: middle;\n",
                     "    }\n",
                     "\n",
                     "    .dataframe tbody tr th {\n",
                     "        vertical-align: top;\n",
                     "    }\n",
                     "\n",
                     "    .dataframe thead th {\n",
                     "        text-align: right;\n",
                     "    }\n",
                     "</style>\n",
                     "<table border=\"1\" class=\"dataframe\">\n",
                     "  <thead>\n",
                     "    <tr style=\"text-align: right;\">\n",
                     "      <th></th>\n",
                     "      <th>Pregnancies</th>\n",
                     "      <th>Glucose</th>\n",
                     "      <th>BloodPressure</th>\n",
                     "      <th>SkinThickness</th>\n",
                     "      <th>Insulin</th>\n",
                     "      <th>BMI</th>\n",
                     "      <th>DiabetesPedigreeFunction</th>\n",
                     "      <th>Age</th>\n",
                     "      <th>Outcome</th>\n",
                     "    </tr>\n",
                     "  </thead>\n",
                     "  <tbody>\n",
                     "    <tr>\n",
                     "      <th>0</th>\n",
                     "      <td>6.0</td>\n",
                     "      <td>148.0</td>\n",
                     "      <td>72.0</td>\n",
                     "      <td>35.0</td>\n",
                     "      <td>125.0</td>\n",
                     "      <td>33.6</td>\n",
                     "      <td>0.627</td>\n",
                     "      <td>50.0</td>\n",
                     "      <td>1</td>\n",
                     "    </tr>\n",
                     "    <tr>\n",
                     "      <th>1</th>\n",
                     "      <td>1.0</td>\n",
                     "      <td>85.0</td>\n",
                     "      <td>66.0</td>\n",
                     "      <td>29.0</td>\n",
                     "      <td>125.0</td>\n",
                     "      <td>26.6</td>\n",
                     "      <td>0.351</td>\n",
                     "      <td>31.0</td>\n",
                     "      <td>0</td>\n",
                     "    </tr>\n",
                     "    <tr>\n",
                     "      <th>2</th>\n",
                     "      <td>8.0</td>\n",
                     "      <td>183.0</td>\n",
                     "      <td>64.0</td>\n",
                     "      <td>29.0</td>\n",
                     "      <td>125.0</td>\n",
                     "      <td>23.3</td>\n",
                     "      <td>0.672</td>\n",
                     "      <td>32.0</td>\n",
                     "      <td>1</td>\n",
                     "    </tr>\n",
                     "    <tr>\n",
                     "      <th>3</th>\n",
                     "      <td>1.0</td>\n",
                     "      <td>89.0</td>\n",
                     "      <td>66.0</td>\n",
                     "      <td>23.0</td>\n",
                     "      <td>94.0</td>\n",
                     "      <td>28.1</td>\n",
                     "      <td>0.167</td>\n",
                     "      <td>21.0</td>\n",
                     "      <td>0</td>\n",
                     "    </tr>\n",
                     "    <tr>\n",
                     "      <th>4</th>\n",
                     "      <td>0.0</td>\n",
                     "      <td>137.0</td>\n",
                     "      <td>40.0</td>\n",
                     "      <td>35.0</td>\n",
                     "      <td>168.0</td>\n",
                     "      <td>43.1</td>\n",
                     "      <td>2.288</td>\n",
                     "      <td>33.0</td>\n",
                     "      <td>1</td>\n",
                     "    </tr>\n",
                     "  </tbody>\n",
                     "</table>\n",
                     "</div>"
                  ],
                  "text/plain": [
                     "   Pregnancies  Glucose  BloodPressure  SkinThickness  Insulin   BMI   \n",
                     "0          6.0    148.0           72.0           35.0    125.0  33.6  \\\n",
                     "1          1.0     85.0           66.0           29.0    125.0  26.6   \n",
                     "2          8.0    183.0           64.0           29.0    125.0  23.3   \n",
                     "3          1.0     89.0           66.0           23.0     94.0  28.1   \n",
                     "4          0.0    137.0           40.0           35.0    168.0  43.1   \n",
                     "\n",
                     "   DiabetesPedigreeFunction   Age  Outcome  \n",
                     "0                     0.627  50.0        1  \n",
                     "1                     0.351  31.0        0  \n",
                     "2                     0.672  32.0        1  \n",
                     "3                     0.167  21.0        0  \n",
                     "4                     2.288  33.0        1  "
                  ]
               },
               "execution_count": 95,
               "metadata": {},
               "output_type": "execute_result"
            }
         ],
         "source": [
            "df_imputed = df_nan.copy()\n",
            "\n",
            "# import Imputer \n",
            "from sklearn.impute import SimpleImputer\n",
            "\n",
            "# Create an imputer object that looks for 'Nan' values, then replaces them with the mean value of the feature by columns (axis=0)\n",
            "# strategy is median because mean results in values to high\n",
            "mean_imputer = SimpleImputer(missing_values=np.nan, strategy='median')\n",
            "\n",
            "# Train the imputor on the dataset\n",
            "mean_imputer = mean_imputer.fit(df_imputed[['Pregnancies', 'Glucose', 'BloodPressure', 'SkinThickness', 'Insulin',\n",
            "       'BMI', 'DiabetesPedigreeFunction', 'Age']])\n",
            "\n",
            "# Apply the imputer to the dataset (This imputer can also be used on future datasets)\n",
            "df_imputed[['Pregnancies', 'Glucose', 'BloodPressure', 'SkinThickness', 'Insulin',\n",
            "       'BMI', 'DiabetesPedigreeFunction', 'Age']] = mean_imputer.transform(df_imputed[['Pregnancies', 'Glucose', 'BloodPressure', 'SkinThickness', 'Insulin',\n",
            "       'BMI', 'DiabetesPedigreeFunction', 'Age']].values)\n",
            "df_imputed.head()"
         ]
      },
      {
         "attachments": {},
         "cell_type": "markdown",
         "metadata": {},
         "source": [
            "### changing floats and ints to ints64"
         ]
      },
      {
         "cell_type": "code",
         "execution_count": null,
         "metadata": {},
         "outputs": [],
         "source": [
            "# These columns are not meant to be floats.\n",
            "\n",
            "# columns = []\n",
            "\n",
            "# for col in columns:\n",
            "#     if not df_imputed[col].empty:\n",
            "#         df_imputed[col] = df_imputed[col].astype(np.int64)\n",
            "\n"
         ]
      },
      {
         "attachments": {},
         "cell_type": "markdown",
         "metadata": {},
         "source": [
            "### 3.4 Log transformation "
         ]
      },
      {
         "cell_type": "code",
         "execution_count": null,
         "metadata": {},
         "outputs": [],
         "source": [
            "\n",
            "# Enkel shom_am omdat dit de meest extreme waarden heeft. \n",
            "\n",
            "from scipy.stats import skew\n",
            "\n",
            "\n",
            "df_imputed['shop_am'] = df_imputed['shop_am'].astype(np.float64) #omzetten naar float\n",
            "\n",
            "skewed = skew(df_imputed['shop_am'].dropna().astype(float))\n",
            "if skewed > 0.75:\n",
            "    df_imputed['shop_am'] = np.log1p(df_imputed['shop_am'])\n",
            "\n",
            "df_imputed['shop_am'] = df_imputed['shop_am'].astype(np.int64)\n",
            "\n",
            "\n",
            "##### same for scores #####\n",
            "df_imputed_scores['shop_am'] = df_imputed_scores['shop_am'].astype(np.float64) #omzetten naar float\n",
            "\n",
            "skewed = skew(df_imputed_scores['shop_am'].dropna().astype(float))\n",
            "if skewed > 0.75:\n",
            "    df_imputed_scores['shop_am'] = np.log1p(df_imputed_scores['shop_am'])\n",
            "\n",
            "df_imputed_scores['shop_am'] = df_imputed_scores['shop_am'].astype(np.int64)"
         ]
      },
      {
         "cell_type": "code",
         "execution_count": null,
         "metadata": {},
         "outputs": [
            {
               "data": {
                  "text/plain": [
                     "0    0\n",
                     "1    0\n",
                     "2    0\n",
                     "3    0\n",
                     "4    7\n",
                     "Name: shop_am, dtype: int64"
                  ]
               },
               "execution_count": 117,
               "metadata": {},
               "output_type": "execute_result"
            }
         ],
         "source": [
            "# showing the log transformed data\n",
            "\n",
            "df_imputed['shop_am'].head()"
         ]
      },
      {
         "attachments": {},
         "cell_type": "markdown",
         "metadata": {},
         "source": [
            "# 4. Shuffle data"
         ]
      },
      {
         "cell_type": "code",
         "execution_count": null,
         "metadata": {},
         "outputs": [],
         "source": [
            "df_shuffle = df_imputed.sample(frac = 1, random_state=123) # shuffle the data\n",
            "\n",
            "##### same for scores #####\n",
            "df_shuffle_scores = df_imputed_scores.sample(frac = 1, random_state=123) # shuffle the data"
         ]
      },
      {
         "attachments": {},
         "cell_type": "markdown",
         "metadata": {},
         "source": [
            "## 5. New cleaned csv"
         ]
      },
      {
         "cell_type": "code",
         "execution_count": null,
         "metadata": {},
         "outputs": [
            {
               "ename": "NameError",
               "evalue": "name 'df_shuffle' is not defined",
               "output_type": "error",
               "traceback": [
                  "\u001b[1;31m---------------------------------------------------------------------------\u001b[0m",
                  "\u001b[1;31mNameError\u001b[0m                                 Traceback (most recent call last)",
                  "Cell \u001b[1;32mIn[3], line 1\u001b[0m\n\u001b[1;32m----> 1\u001b[0m df_shuffle\u001b[39m.\u001b[39mto_csv(\u001b[39m'\u001b[39m\u001b[39mdata_cleaned.csv\u001b[39m\u001b[39m'\u001b[39m, index\u001b[39m=\u001b[39m\u001b[39mFalse\u001b[39;00m)\n\u001b[0;32m      2\u001b[0m df_shuffle_scores\u001b[39m.\u001b[39mto_csv(\u001b[39m'\u001b[39m\u001b[39mscore_cleaned.csv\u001b[39m\u001b[39m'\u001b[39m, index\u001b[39m=\u001b[39m\u001b[39mFalse\u001b[39;00m)\n",
                  "\u001b[1;31mNameError\u001b[0m: name 'df_shuffle' is not defined"
               ]
            }
         ],
         "source": [
            "df_shuffle.to_csv('data_cleaned.csv', index=False)\n",
            "df_shuffle_scores.to_csv('score_cleaned.csv', index=False)"
         ]
      }
   ],
   "metadata": {
      "kernelspec": {
         "display_name": "SchoolProject-jfK-57_F",
         "language": "python",
         "name": "python3"
      },
      "language_info": {
         "codemirror_mode": {
            "name": "ipython",
            "version": 3
         },
         "file_extension": ".py",
         "mimetype": "text/x-python",
         "name": "python",
         "nbconvert_exporter": "python",
         "pygments_lexer": "ipython3",
         "version": "3.11.1"
      },
      "orig_nbformat": 4,
      "vscode": {
         "interpreter": {
            "hash": "56f342581a41122b934d164d33277dfa0e337670219fb24060f5abc3a8d8b548"
         }
      }
   },
   "nbformat": 4,
   "nbformat_minor": 2
}
